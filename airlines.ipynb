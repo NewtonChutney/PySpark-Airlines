{
 "cells": [
  {
   "cell_type": "code",
   "execution_count": 1,
   "metadata": {},
   "outputs": [
    {
     "name": "stdout",
     "output_type": "stream",
     "text": [
      "Requirement already satisfied: pyspark in /home/envy/py-dev/.venv/lib/python3.10/site-packages (3.5.3)\n",
      "Requirement already satisfied: py4j==0.10.9.7 in /home/envy/py-dev/.venv/lib/python3.10/site-packages (from pyspark) (0.10.9.7)\n"
     ]
    }
   ],
   "source": [
    "%%bash\n",
    "pip install pyspark"
   ]
  },
  {
   "cell_type": "code",
   "execution_count": 2,
   "metadata": {},
   "outputs": [
    {
     "name": "stdout",
     "output_type": "stream",
     "text": [
      "airlines.html\n",
      "airlines.ipynb\n",
      "airlines.pdf\n",
      "data\n"
     ]
    }
   ],
   "source": [
    "%%bash\n",
    "ls\n",
    "# !ls"
   ]
  },
  {
   "cell_type": "code",
   "execution_count": 3,
   "metadata": {},
   "outputs": [],
   "source": [
    "from pyspark import SparkContext\n",
    "from pyspark.sql import SparkSession, DataFrame\n",
    "from pyspark.sql import functions as F "
   ]
  },
  {
   "cell_type": "code",
   "execution_count": 4,
   "metadata": {},
   "outputs": [
    {
     "name": "stderr",
     "output_type": "stream",
     "text": [
      "your 131072x1 screen size is bogus. expect trouble\n",
      "25/01/10 20:42:47 WARN Utils: Your hostname, elitebook resolves to a loopback address: 127.0.1.1; using 10.255.255.254 instead (on interface lo)\n",
      "25/01/10 20:42:47 WARN Utils: Set SPARK_LOCAL_IP if you need to bind to another address\n",
      "Setting default log level to \"WARN\".\n",
      "To adjust logging level use sc.setLogLevel(newLevel). For SparkR, use setLogLevel(newLevel).\n",
      "25/01/10 20:42:47 WARN NativeCodeLoader: Unable to load native-hadoop library for your platform... using builtin-java classes where applicable\n"
     ]
    }
   ],
   "source": [
    "sc = SparkContext()\n",
    "ss = SparkSession.builder.getOrCreate()"
   ]
  },
  {
   "cell_type": "code",
   "execution_count": 5,
   "metadata": {},
   "outputs": [
    {
     "name": "stderr",
     "output_type": "stream",
     "text": [
      "                                                                                \r"
     ]
    },
    {
     "data": {
      "text/plain": [
       "['Year,Quarter,Average revenue per seat,total no. of booked seats',\n",
       " '1995,1,296.9,46561',\n",
       " '1995,2,296.8,37443',\n",
       " '1995,3,287.51,34128',\n",
       " '1995,4,287.78,30388']"
      ]
     },
     "execution_count": 5,
     "metadata": {},
     "output_type": "execute_result"
    }
   ],
   "source": [
    "txnRDD = sc.textFile(\"./data/airlines.csv\")\n",
    "txnRDD.take(5)"
   ]
  },
  {
   "cell_type": "code",
   "execution_count": 6,
   "metadata": {},
   "outputs": [
    {
     "name": "stdout",
     "output_type": "stream",
     "text": [
      "+----+-------+------------------------+-------------------------+\n",
      "|Year|Quarter|Average revenue per seat|total no. of booked seats|\n",
      "+----+-------+------------------------+-------------------------+\n",
      "|1995|      1|                   296.9|                    46561|\n",
      "|1995|      2|                   296.8|                    37443|\n",
      "|1995|      3|                  287.51|                    34128|\n",
      "|1995|      4|                  287.78|                    30388|\n",
      "|1996|      1|                  283.97|                    47808|\n",
      "+----+-------+------------------------+-------------------------+\n",
      "only showing top 5 rows\n",
      "\n"
     ]
    }
   ],
   "source": [
    "# ss.createDataFrame(data=txnRDD, )\n",
    "df: DataFrame = ss.read.csv(\"./data/airlines.csv\", header='True')\n",
    "# txnDF = txnRDD.toDF(schema=txnRDD.take(1))\n",
    "df.show(n=5)"
   ]
  },
  {
   "cell_type": "code",
   "execution_count": 7,
   "metadata": {},
   "outputs": [
    {
     "name": "stdout",
     "output_type": "stream",
     "text": [
      "+----+---+-----------+------------+\n",
      "|year|qtr|avg_revenue|booked_seats|\n",
      "+----+---+-----------+------------+\n",
      "|1995|  1|      296.9|       46561|\n",
      "|1995|  2|      296.8|       37443|\n",
      "|1995|  3|     287.51|       34128|\n",
      "|1995|  4|     287.78|       30388|\n",
      "|1996|  1|     283.97|       47808|\n",
      "+----+---+-----------+------------+\n",
      "only showing top 5 rows\n",
      "\n"
     ]
    }
   ],
   "source": [
    "df = df.selectExpr(\"Year as year\", \"Quarter as qtr\", \"`Average revenue per seat` as avg_revenue\", \"`total no. of booked seats` as booked_seats\")\n",
    "df.show(n=5)"
   ]
  },
  {
   "cell_type": "code",
   "execution_count": 8,
   "metadata": {},
   "outputs": [
    {
     "data": {
      "text/plain": [
       "DataFrame[summary: string, year: string, qtr: string, avg_revenue: string, booked_seats: string]"
      ]
     },
     "execution_count": 8,
     "metadata": {},
     "output_type": "execute_result"
    }
   ],
   "source": [
    "df.describe()"
   ]
  },
  {
   "cell_type": "markdown",
   "metadata": {},
   "source": [
    "### Q1 Identifying the year with the highest number of people travelled"
   ]
  },
  {
   "cell_type": "code",
   "execution_count": 9,
   "metadata": {},
   "outputs": [
    {
     "data": {
      "text/plain": [
       "DataFrame[summary: string, year: string, booked_seats: string]"
      ]
     },
     "execution_count": 9,
     "metadata": {},
     "output_type": "execute_result"
    }
   ],
   "source": [
    "df1 = df.selectExpr(\"year\", \"booked_seats\")\n",
    "df1.describe()"
   ]
  },
  {
   "cell_type": "code",
   "execution_count": 10,
   "metadata": {},
   "outputs": [
    {
     "name": "stdout",
     "output_type": "stream",
     "text": [
      "+----+------------+\n",
      "|year|booked_seats|\n",
      "+----+------------+\n",
      "|1995|       46561|\n",
      "|1995|       37443|\n",
      "|1995|       34128|\n",
      "|1995|       30388|\n",
      "|1996|       47808|\n",
      "+----+------------+\n",
      "only showing top 5 rows\n",
      "\n"
     ]
    }
   ],
   "source": [
    "df1.show(n=5)\n"
   ]
  },
  {
   "cell_type": "code",
   "execution_count": 11,
   "metadata": {},
   "outputs": [
    {
     "name": "stdout",
     "output_type": "stream",
     "text": [
      "+----+------------+\n",
      "|year|booked_seats|\n",
      "+----+------------+\n",
      "|2007|    176299.0|\n",
      "+----+------------+\n",
      "only showing top 1 row\n",
      "\n"
     ]
    }
   ],
   "source": [
    "df1.groupBy(F.col(\"year\")).agg(F.sum(df1.booked_seats).alias(\"booked_seats\")).sort(\"booked_seats\", ascending=False).show(n=1)\n"
   ]
  },
  {
   "cell_type": "markdown",
   "metadata": {},
   "source": [
    "### Q2 Identifying the year with highest revenue"
   ]
  },
  {
   "cell_type": "code",
   "execution_count": 12,
   "metadata": {},
   "outputs": [
    {
     "data": {
      "text/plain": [
       "DataFrame[summary: string, year: string, qtr: string, avg_revenue: string, booked_seats: string]"
      ]
     },
     "execution_count": 12,
     "metadata": {},
     "output_type": "execute_result"
    }
   ],
   "source": [
    "# df2 = df.selectExpr(\"Year\", \"Quarter\", \"`Average revenue per seat` as revenue\")\n",
    "df2 = df.selectExpr(\"year\", \"qtr\", \"avg_revenue\", \"booked_seats\")\n",
    "df2.describe()"
   ]
  },
  {
   "cell_type": "code",
   "execution_count": 13,
   "metadata": {},
   "outputs": [
    {
     "name": "stdout",
     "output_type": "stream",
     "text": [
      "+----+---+-----------+------------+--------------------+\n",
      "|year|qtr|avg_revenue|booked_seats|         rev_per_qtr|\n",
      "+----+---+-----------+------------+--------------------+\n",
      "|1995|  1|      296.9|       46561|1.3823960899999999E7|\n",
      "|1995|  2|      296.8|       37443|        1.11130824E7|\n",
      "|1995|  3|     287.51|       34128|          9812141.28|\n",
      "|1995|  4|     287.78|       30388|   8745058.639999999|\n",
      "|1996|  1|     283.97|       47808|1.3576037760000002E7|\n",
      "+----+---+-----------+------------+--------------------+\n",
      "only showing top 5 rows\n",
      "\n"
     ]
    }
   ],
   "source": [
    "# total revenue per quarter\n",
    "df2 = df2.withColumn(\"rev_per_qtr\", df2.avg_revenue*df2.booked_seats)\n",
    "df2.show(n=5)"
   ]
  },
  {
   "cell_type": "code",
   "execution_count": 14,
   "metadata": {},
   "outputs": [],
   "source": [
    "df2 = df2.groupBy(df2.year).agg(F.sum(df2.rev_per_qtr).alias(\"revenue\"))"
   ]
  },
  {
   "cell_type": "code",
   "execution_count": 15,
   "metadata": {},
   "outputs": [
    {
     "name": "stdout",
     "output_type": "stream",
     "text": [
      "+----+-------------+\n",
      "|year|      revenue|\n",
      "+----+-------------+\n",
      "|2013|6.636320871E7|\n",
      "+----+-------------+\n",
      "only showing top 1 row\n",
      "\n"
     ]
    }
   ],
   "source": [
    "df2.sort(\"revenue\", ascending=False).show(n=1)"
   ]
  },
  {
   "cell_type": "markdown",
   "metadata": {},
   "source": [
    "### Q3 Identifying the year and quarter highest revenue\n"
   ]
  },
  {
   "cell_type": "code",
   "execution_count": 16,
   "metadata": {},
   "outputs": [
    {
     "data": {
      "text/plain": [
       "DataFrame[summary: string, year: string, qtr: string, avg_revenue: string, rev_per_qtr: string]"
      ]
     },
     "execution_count": 16,
     "metadata": {},
     "output_type": "execute_result"
    }
   ],
   "source": [
    "df3 = df.selectExpr(\"year\", \"qtr\", \"avg_revenue\", \"avg_revenue * booked_seats as rev_per_qtr\")\n",
    "df3.describe()"
   ]
  },
  {
   "cell_type": "code",
   "execution_count": 17,
   "metadata": {},
   "outputs": [
    {
     "name": "stdout",
     "output_type": "stream",
     "text": [
      "+----+---+-----------+--------------------+\n",
      "|year|qtr|avg_revenue|         rev_per_qtr|\n",
      "+----+---+-----------+--------------------+\n",
      "|1995|  1|      296.9|1.3823960899999999E7|\n",
      "|1995|  2|      296.8|        1.11130824E7|\n",
      "|1995|  3|     287.51|          9812141.28|\n",
      "|1995|  4|     287.78|   8745058.639999999|\n",
      "|1996|  1|     283.97|1.3576037760000002E7|\n",
      "+----+---+-----------+--------------------+\n",
      "only showing top 5 rows\n",
      "\n"
     ]
    }
   ],
   "source": [
    "df3.show(n=5)"
   ]
  },
  {
   "cell_type": "code",
   "execution_count": 18,
   "metadata": {},
   "outputs": [
    {
     "name": "stdout",
     "output_type": "stream",
     "text": [
      "+----+---+-----------+-------------+\n",
      "|year|qtr|avg_revenue|  rev_per_qtr|\n",
      "+----+---+-----------+-------------+\n",
      "|2014|  4|     392.66|1.881940848E7|\n",
      "+----+---+-----------+-------------+\n",
      "only showing top 1 row\n",
      "\n"
     ]
    }
   ],
   "source": [
    "df3.sort(\"rev_per_qtr\", ascending=False).show(n=1)"
   ]
  }
 ],
 "metadata": {
  "kernelspec": {
   "display_name": ".venv",
   "language": "python",
   "name": "python3"
  },
  "language_info": {
   "codemirror_mode": {
    "name": "ipython",
    "version": 3
   },
   "file_extension": ".py",
   "mimetype": "text/x-python",
   "name": "python",
   "nbconvert_exporter": "python",
   "pygments_lexer": "ipython3",
   "version": "3.10.12"
  }
 },
 "nbformat": 4,
 "nbformat_minor": 2
}
